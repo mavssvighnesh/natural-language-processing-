{
 "cells": [
  {
   "cell_type": "code",
   "execution_count": 1,
   "metadata": {},
   "outputs": [
    {
     "name": "stdout",
     "output_type": "stream",
     "text": [
      "*** Introductory Examples for the NLTK Book ***\n",
      "Loading text1, ..., text9 and sent1, ..., sent9\n",
      "Type the name of the text or sentence to view it.\n",
      "Type: 'texts()' or 'sents()' to list the materials.\n",
      "text1: Moby Dick by Herman Melville 1851\n",
      "text2: Sense and Sensibility by Jane Austen 1811\n",
      "text3: The Book of Genesis\n",
      "text4: Inaugural Address Corpus\n",
      "text5: Chat Corpus\n",
      "text6: Monty Python and the Holy Grail\n",
      "text7: Wall Street Journal\n",
      "text8: Personals Corpus\n",
      "text9: The Man Who Was Thursday by G . K . Chesterton 1908\n"
     ]
    },
    {
     "data": {
      "text/plain": [
       "[('JOIN', 1021),\n",
       " ('PART', 1016),\n",
       " ('that', 274),\n",
       " ('what', 183),\n",
       " ('here', 181),\n",
       " ('....', 170),\n",
       " ('have', 164),\n",
       " ('like', 156),\n",
       " ('with', 152),\n",
       " ('chat', 142),\n",
       " ('your', 137),\n",
       " ('good', 130),\n",
       " ('just', 125),\n",
       " ('lmao', 107),\n",
       " ('know', 103)]"
      ]
     },
     "execution_count": 1,
     "metadata": {},
     "output_type": "execute_result"
    }
   ],
   "source": [
    "#Experiment-10:\n",
    "import nltk\n",
    "from nltk.book import *\n",
    "text5\n",
    "\n",
    "dic = text5.vocab()\n",
    "dic\n",
    "\n",
    "dic = filter(lambda x: len(x[0]) == 4,dic.items())\n",
    "dic\n",
    "\n",
    "dic = dict(dic)\n",
    "sorted(dic.items(),key=lambda x:x[1],reverse=True)[:15]"
   ]
  }
 ],
 "metadata": {
  "kernelspec": {
   "display_name": "Python 3",
   "language": "python",
   "name": "python3"
  },
  "language_info": {
   "codemirror_mode": {
    "name": "ipython",
    "version": 3
   },
   "file_extension": ".py",
   "mimetype": "text/x-python",
   "name": "python",
   "nbconvert_exporter": "python",
   "pygments_lexer": "ipython3",
   "version": "3.11.4"
  },
  "orig_nbformat": 4
 },
 "nbformat": 4,
 "nbformat_minor": 2
}
