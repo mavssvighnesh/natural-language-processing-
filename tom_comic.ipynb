{
 "cells": [
  {
   "cell_type": "code",
   "execution_count": 3,
   "metadata": {},
   "outputs": [
    {
     "name": "stdout",
     "output_type": "stream",
     "text": [
      "['In', 'the', 'beginning', 'God', 'created', 'the', 'heaven', 'and', 'the', 'earth']\n",
      "10\n"
     ]
    }
   ],
   "source": [
    "#Experiment-12:\n",
    "import re\n",
    "from nltk.stem import PorterStemmer\n",
    "from nltk import wordpunct_tokenize\n",
    "sent = \"In the beginning God created the heaven and the earth \"\n",
    "sent = re.sub(r'[^\\w\\s]','',sent)\n",
    "tokens = wordpunct_tokenize(sent)\n",
    "print(tokens)\n",
    "print(len(tokens))"
   ]
  }
 ],
 "metadata": {
  "kernelspec": {
   "display_name": "Python 3",
   "language": "python",
   "name": "python3"
  },
  "language_info": {
   "codemirror_mode": {
    "name": "ipython",
    "version": 3
   },
   "file_extension": ".py",
   "mimetype": "text/x-python",
   "name": "python",
   "nbconvert_exporter": "python",
   "pygments_lexer": "ipython3",
   "version": "3.11.4"
  },
  "orig_nbformat": 4
 },
 "nbformat": 4,
 "nbformat_minor": 2
}
