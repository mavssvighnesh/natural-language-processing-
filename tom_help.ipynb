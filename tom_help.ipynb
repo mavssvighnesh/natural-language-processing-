{
 "cells": [
  {
   "cell_type": "code",
   "execution_count": 1,
   "metadata": {},
   "outputs": [
    {
     "name": "stdout",
     "output_type": "stream",
     "text": [
      "in the begin god creat the heaven and the earth "
     ]
    }
   ],
   "source": [
    "#Experiment-11:\n",
    "import re\n",
    "from nltk.stem import PorterStemmer\n",
    "from nltk import wordpunct_tokenize\n",
    "ps = PorterStemmer()\n",
    "sent = 'In the beginning God Created the heaven and the earth'\n",
    "sent = re.sub(r'[^\\w\\s]','',sent)\n",
    "tokens = wordpunct_tokenize(sent)\n",
    "for token in tokens:\n",
    " print(ps.stem(token),end=\" \")"
   ]
  }
 ],
 "metadata": {
  "kernelspec": {
   "display_name": "Python 3",
   "language": "python",
   "name": "python3"
  },
  "language_info": {
   "codemirror_mode": {
    "name": "ipython",
    "version": 3
   },
   "file_extension": ".py",
   "mimetype": "text/x-python",
   "name": "python",
   "nbconvert_exporter": "python",
   "pygments_lexer": "ipython3",
   "version": "3.11.4"
  },
  "orig_nbformat": 4
 },
 "nbformat": 4,
 "nbformat_minor": 2
}
