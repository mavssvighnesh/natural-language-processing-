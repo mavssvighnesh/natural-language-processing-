{
 "cells": [
  {
   "cell_type": "code",
   "execution_count": 1,
   "metadata": {},
   "outputs": [
    {
     "name": "stdout",
     "output_type": "stream",
     "text": [
      "Words begin with 'sh':\n",
      "she\n",
      "shells\n",
      "shore\n",
      "Words Contains more than 4 characters :\n",
      "sells\n",
      "shells\n",
      "shore\n"
     ]
    }
   ],
   "source": [
    "#Experiment-5:\n",
    "sent = ['she','sells','sea','shells','by','the','sea','shore']\n",
    "print(\"Words begin with 'sh':\")\n",
    "for word in sent:\n",
    " if word.startswith('sh'):\n",
    "    print(word)\n",
    "\n",
    "print(\"Words Contains more than 4 characters :\")\n",
    "for word in sent:\n",
    " if len(word)>4:\n",
    "    print(word)"
   ]
  }
 ],
 "metadata": {
  "kernelspec": {
   "display_name": "Python 3",
   "language": "python",
   "name": "python3"
  },
  "language_info": {
   "codemirror_mode": {
    "name": "ipython",
    "version": 3
   },
   "file_extension": ".py",
   "mimetype": "text/x-python",
   "name": "python",
   "nbconvert_exporter": "python",
   "pygments_lexer": "ipython3",
   "version": "3.11.4"
  },
  "orig_nbformat": 4
 },
 "nbformat": 4,
 "nbformat_minor": 2
}
